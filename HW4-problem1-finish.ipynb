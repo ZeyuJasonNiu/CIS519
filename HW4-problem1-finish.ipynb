{
  "nbformat": 4,
  "nbformat_minor": 0,
  "metadata": {
    "colab": {
      "name": "“skeleton.ipynb”的副本",
      "provenance": [],
      "collapsed_sections": [],
      "include_colab_link": true
    },
    "kernelspec": {
      "display_name": "Python 3",
      "name": "python3"
    },
    "language_info": {
      "name": "python"
    },
    "accelerator": "GPU"
  },
  "cells": [
    {
      "cell_type": "markdown",
      "metadata": {
        "id": "view-in-github",
        "colab_type": "text"
      },
      "source": [
        "<a href=\"https://colab.research.google.com/github/ZeyuJasonNiu/CIS519/blob/main/HW4-problem1-finish.ipynb\" target=\"_parent\"><img src=\"https://colab.research.google.com/assets/colab-badge.svg\" alt=\"Open In Colab\"/></a>"
      ]
    },
    {
      "cell_type": "markdown",
      "metadata": {
        "id": "qs0yamHN-dY0"
      },
      "source": [
        "# **CIS 419/519 Spring 2022 - Homework 4**\n",
        "\n",
        "**Before starting, you must click on the \"Copy To Drive\" option in the top bar. Go to File --> Save a Copy to Drive. This is the master notebook so <u>you will not be able to save your changes without copying it </u>! Once you click on that, make sure you are working on that version of the notebook so that your work is saved** "
      ]
    },
    {
      "cell_type": "code",
      "source": [
        "# Restart the runtime after running this cell everytime you open the notebook\n",
        "!pip install pandas==1.1.5"
      ],
      "metadata": {
        "id": "uX6m4rCai_mC",
        "colab": {
          "base_uri": "https://localhost:8080/"
        },
        "outputId": "7bd6d778-9417-4023-8f13-bd7822c4788e"
      },
      "execution_count": 1,
      "outputs": [
        {
          "output_type": "stream",
          "name": "stdout",
          "text": [
            "Requirement already satisfied: pandas==1.1.5 in /usr/local/lib/python3.7/dist-packages (1.1.5)\n",
            "Requirement already satisfied: pytz>=2017.2 in /usr/local/lib/python3.7/dist-packages (from pandas==1.1.5) (2018.9)\n",
            "Requirement already satisfied: numpy>=1.15.4 in /usr/local/lib/python3.7/dist-packages (from pandas==1.1.5) (1.21.5)\n",
            "Requirement already satisfied: python-dateutil>=2.7.3 in /usr/local/lib/python3.7/dist-packages (from pandas==1.1.5) (2.8.2)\n",
            "Requirement already satisfied: six>=1.5 in /usr/local/lib/python3.7/dist-packages (from python-dateutil>=2.7.3->pandas==1.1.5) (1.15.0)\n"
          ]
        }
      ]
    },
    {
      "cell_type": "code",
      "metadata": {
        "id": "Rb-WLp5Z-cdy"
      },
      "source": [
        "import random \n",
        "import numpy as np\n",
        "import pandas as pd\n",
        "import os\n",
        "import sys\n",
        "import matplotlib.pyplot as plt\n",
        "from numpy.linalg import *\n",
        "from sklearn.decomposition import PCA\n",
        "from sklearn import preprocessing\n",
        "from scipy.spatial import distance\n",
        "np.random.seed(42)  # don't change this line\n",
        "\n",
        "import dill\n",
        "import base64"
      ],
      "execution_count": 2,
      "outputs": []
    },
    {
      "cell_type": "code",
      "metadata": {
        "id": "O2VtEzsZ-loR",
        "colab": {
          "base_uri": "https://localhost:8080/"
        },
        "outputId": "63f80cfd-57b2-44f1-8f8a-4e880e261b3e"
      },
      "source": [
        "# For autogreader only, do not modify this cell. \n",
        "# True for Google Colab, False for autograder\n",
        "NOTEBOOK = (os.getenv('IS_AUTOGRADER') is None)\n",
        "if NOTEBOOK:\n",
        "    print(\"[INFO, OK] Google Colab.\")\n",
        "else:\n",
        "    print(\"[INFO, OK] Autograder.\")"
      ],
      "execution_count": 3,
      "outputs": [
        {
          "output_type": "stream",
          "name": "stdout",
          "text": [
            "[INFO, OK] Google Colab.\n"
          ]
        }
      ]
    },
    {
      "cell_type": "markdown",
      "metadata": {
        "id": "cjjXBdEb-p8K"
      },
      "source": [
        "# **PennGrader Setup**\n",
        "\n",
        "First, you'll need to set up the PennGrader, an autograder we are going to use throughout the semester. The PennGrader will automatically grade your answer and provide you with an instant feedback. Unless otherwise stated, you can resubmit up to a reasonable number of attempts (e.g. 100 attemptes per day). **We will only record your latest score in our backend database**. \n",
        "\n",
        "After finishing each homework assignment, you must submit your iPython notebook to gradescope before the homework deadline. Gradescope will then retrive and display your scores from our backend database. "
      ]
    },
    {
      "cell_type": "code",
      "metadata": {
        "id": "6GCTLN4G-nK2"
      },
      "source": [
        "%%capture\n",
        "!pip3 install penngrader --upgrade"
      ],
      "execution_count": 4,
      "outputs": []
    },
    {
      "cell_type": "code",
      "metadata": {
        "id": "QLnoPRci-sTC"
      },
      "source": [
        "from penngrader.grader import *"
      ],
      "execution_count": 5,
      "outputs": []
    },
    {
      "cell_type": "code",
      "metadata": {
        "id": "qu0XYZHO-t8J"
      },
      "source": [
        "#PLEASE ENSURE YOUR PENN-ID IS ENTERED CORRECTLY. IF NOT, THE AUTOGRADER WON'T KNOW WHO \n",
        "#TO ASSIGN POINTS TO YOU IN OUR BACKEND\n",
        "STUDENT_ID = 35238438          # YOUR PENN-ID GOES HERE AS AN INTEGER#"
      ],
      "execution_count": 6,
      "outputs": []
    },
    {
      "cell_type": "markdown",
      "metadata": {
        "id": "tIDTGGbo-xkf"
      },
      "source": [
        "Run the following cell to initialize the autograder. This autograder will let you submit your code directly from this notebook and immidiately get a score.\n",
        "\n",
        "**NOTE:** Remember we store your submissions and check against other student's submissions... so, not that you would, but no cheating."
      ]
    },
    {
      "cell_type": "code",
      "metadata": {
        "id": "bw_QDnZk-vvI",
        "colab": {
          "base_uri": "https://localhost:8080/"
        },
        "outputId": "065be12e-5aec-449a-db01-015eae8166c7"
      },
      "source": [
        "grader = PennGrader(homework_id = 'CIS_519_Spring22_HW4', student_id = STUDENT_ID)"
      ],
      "execution_count": 7,
      "outputs": [
        {
          "output_type": "stream",
          "name": "stdout",
          "text": [
            "PennGrader initialized with Student ID: 35238438\n",
            "\n",
            "Make sure this correct or we will not be able to store your grade\n"
          ]
        }
      ]
    },
    {
      "cell_type": "markdown",
      "source": [
        "#### **NOTE 1. Results of sections marked as \"manually graded\" should be submitted along with the written homework solutions.**\n",
        "\n",
        "#### **NOTE 2. If you are running into a `__builtins__' error, it's likely because you're using a function call of the form numpy.ndarray.mean(), like a.mean(). This does not play nice with PennGrader unfortunately. Please use the function call numpy.mean(a) instead.**"
      ],
      "metadata": {
        "id": "oQCyLhELJ7LX"
      }
    },
    {
      "cell_type": "markdown",
      "source": [
        "#**1. [30 pts] K-means Clustering**"
      ],
      "metadata": {
        "id": "UFg_C8FsrDPx"
      }
    },
    {
      "cell_type": "markdown",
      "source": [
        "We will implement the k-means clustering algorithm using the Breast Cancer dataset. As with all unsupervised learning problems, our goal is to discover and describe some hidden structure in unlabeled data. The k-means algorithm, in particular, attempts to determine how to separate the data into <em>k</em> distinct groups over a set of features ***given that we know (are provided) the value of k***.\n",
        "\n",
        "Knowing there are <em>k</em> distinct 'classes' however, doesn't tell anything about the content/properties within each class. If we could find samples that are representative of each of these *k* groups, then we could label the rest of the data based on how similar they are to each of the prototypical samples. We will refer to these representatives as the centroids (cluster centers) that correspond to each cluster."
      ],
      "metadata": {
        "id": "ueqnCrUcUYYe"
      }
    },
    {
      "cell_type": "markdown",
      "source": [
        "## **1.1. Import the dataset**\n",
        "\n"
      ],
      "metadata": {
        "id": "14YBV9icrOGH"
      }
    },
    {
      "cell_type": "code",
      "source": [
        "if NOTEBOOK:\n",
        "    from sklearn.datasets import load_breast_cancer\n",
        "    cancer_dataset = load_breast_cancer()\n",
        "\n",
        "    ## TODO your code here ##\n",
        "    \"\"\"\n",
        "    First load the dataset X from cancer_dataset.\n",
        "    X -  (m, n) -> m x n matrix where m is the number of training points = 569 and n is the no of features = 30\n",
        "    \"\"\"\n",
        "    X = cancer_dataset.data\n",
        "    print(np.shape(X))\n",
        "    print(X)\n",
        "    ## TODO end ##"
      ],
      "metadata": {
        "id": "vE5wyPtPqfN2",
        "colab": {
          "base_uri": "https://localhost:8080/"
        },
        "outputId": "35cd9e25-7611-435c-d392-9eebbaaba40d"
      },
      "execution_count": 8,
      "outputs": [
        {
          "output_type": "stream",
          "name": "stdout",
          "text": [
            "(569, 30)\n",
            "[[1.799e+01 1.038e+01 1.228e+02 ... 2.654e-01 4.601e-01 1.189e-01]\n",
            " [2.057e+01 1.777e+01 1.329e+02 ... 1.860e-01 2.750e-01 8.902e-02]\n",
            " [1.969e+01 2.125e+01 1.300e+02 ... 2.430e-01 3.613e-01 8.758e-02]\n",
            " ...\n",
            " [1.660e+01 2.808e+01 1.083e+02 ... 1.418e-01 2.218e-01 7.820e-02]\n",
            " [2.060e+01 2.933e+01 1.401e+02 ... 2.650e-01 4.087e-01 1.240e-01]\n",
            " [7.760e+00 2.454e+01 4.792e+01 ... 0.000e+00 2.871e-01 7.039e-02]]\n"
          ]
        }
      ]
    },
    {
      "cell_type": "markdown",
      "source": [
        "## **1.2. [12 pts] K-means clustering implementation** "
      ],
      "metadata": {
        "id": "AX94K2fWrZZX"
      }
    },
    {
      "cell_type": "markdown",
      "source": [
        "We will first implement a class for k-means clustering.<br>\n",
        "These are the main functions: <br>\n",
        "- `__init__`: The initialiser/constructor (This is implemented for you)\n",
        "- `fit`: Entrypoint function that takes in the dataset (X) as well as centroid initialisations and returns: \n",
        "    - the cluster labels for each row (data point) in the dataset\n",
        "    - list of centroids corresponding to each cluster \n",
        "    - no of iterations taken to converge.\n",
        "\n",
        "Inside fit() function, you will need to implement the actual kmeans functionality. <br>\n",
        "The K-means process you should follow is listed below:\n",
        "1. Initialize each of the k centroids to a random datapoint if initialisation is not provided.\n",
        "2. Update each datapoint's cluster to that whose *centroid* is closest\n",
        "3. Calculate the new *centroid* of each cluster\n",
        "4. Repeat the previous two steps until no centroid value changes. Make sure you break out of the loop reagrdless of whether you converged or not once max iterations are reached.\n",
        "\n",
        "To help streamline this process, three helper functions have been given to you in the KMeans class \\\n",
        "- compute_distance(): use for step-2 above\n",
        "- find_closest_cluster(): use for step-2 above\n",
        "- compute_centroid(): use for step-3 above\n"
      ],
      "metadata": {
        "id": "Gugp6fJ4U_0o"
      }
    },
    {
      "cell_type": "code",
      "source": [
        "if NOTEBOOK:\n",
        "    class KMeans:\n",
        "        '''Implementing Kmeans clustering'''\n",
        "\n",
        "        def __init__(self, n_clusters, max_iter=1000):\n",
        "            self.n_clusters = n_clusters\n",
        "            self.max_iter = max_iter\n",
        "\n",
        "        def compute_centroids(self, X, clusters):\n",
        "            \"\"\"\n",
        "            Computes new centroids positions given the clusters\n",
        "            \n",
        "            INPUT:\n",
        "            X - m by n matrix, where m is the number of training points\n",
        "            clusters -  m dimensional vector, where m is the number of training points \n",
        "                        At an index i, it contains the cluster id that the i-th datapoint \n",
        "                        in X belongs to.\n",
        "            \n",
        "            OUTPUT:\n",
        "            centroids - k by n matrix, where k is the number of clusters.\n",
        "            \"\"\"\n",
        "            centroids = np.zeros((self.n_clusters, X.shape[1]))\n",
        "            # TODO your code here\n",
        "            clus_len = len(clusters)\n",
        "            dist_arr = [0] * self.n_clusters\n",
        "\n",
        "            for i in range(clus_len):\n",
        "              clus_no = int(clusters[i])\n",
        "              centroids[clus_no] += X[i]\n",
        "              dist_arr[clus_no] += 1\n",
        "            \n",
        "            cen_len = len(centroids)\n",
        "            for k in range(cen_len):\n",
        "              centroids[k] = centroids[k]/dist_arr[k]\n",
        "\n",
        "            ## TODO end ##\n",
        "            return centroids\n",
        "\n",
        "        def compute_distance(self, X, centroids):\n",
        "            \"\"\"\n",
        "            Computes the distance of each datapoint in X from the centroids of all the clusters\n",
        "            \n",
        "            INPUT:\n",
        "            X - m by n matrix, where m is the number of training points\n",
        "            centroids - k by n matrix, where k is the number of clusters\n",
        "            \n",
        "            OUTPUT:\n",
        "            dist - m by k matrix, for each datapoint in X, the distances from all the k cluster centroids.\n",
        "            \n",
        "            \"\"\"\n",
        "            dist = np.zeros((X.shape[0], self.n_clusters))\n",
        "            # TODO your code here\n",
        "            cen_len = len(centroids)\n",
        "\n",
        "            for i in range(X.shape[0]):\n",
        "              for j in range(cen_len):\n",
        "                dist[i][j] = np.linalg.norm(X[i]-centroids[j])\n",
        "\n",
        "            ## TODO end ##\n",
        "            return dist\n",
        "\n",
        "        def find_closest_cluster(self, dist):\n",
        "            \"\"\"\n",
        "            Finds the cluster id that each datapoint in X belongs to\n",
        "            \n",
        "            INPUT:\n",
        "            dist - m by k matrix, for each datapoint in X, the distances from all the k cluster centroids.\n",
        "            \n",
        "            OUTPUT:\n",
        "            clusters - m dimensional vector, where m is the number of training points \n",
        "                        At an index i, it contains the cluster id that the i-th datapoint \n",
        "                        in X belongs to.\n",
        "            \n",
        "            \"\"\"\n",
        "            clusters = np.zeros(dist.shape[0])\n",
        "            # TODO your code here\n",
        "            a = np.shape(dist)[0]\n",
        "            b = np.shape(dist)[1]\n",
        "\n",
        "            for i in range(a):\n",
        "              nearest = 0\n",
        "              for j in range(1,b):\n",
        "                if dist[i][j] < dist[i][nearest]:\n",
        "                  nearest = j\n",
        "\n",
        "                clusters[i] = nearest\n",
        "            ## TODO end ##\n",
        "            return clusters\n",
        "        \n",
        "        def fit(self, X, init_centroids=None):\n",
        "            \"\"\"\n",
        "            Fit KMeans clustering to given dataset X. \n",
        "            \n",
        "            INPUT:\n",
        "            X - m by n matrix, where m is the number of training points\n",
        "            init_centroids (optional) - k by n matrix, where k is the number of clusters\n",
        "            \n",
        "            OUTPUT:\n",
        "            clusters - m dimensional vector, where m is the number of training points \n",
        "                        At an index i, it contains the cluster id that the i-th datapoint \n",
        "                        in X belongs to.\n",
        "            centroids - k by n matrix, where k is the number of clusters. \n",
        "                        These are the k cluster centroids, for cluster ids 0 to k-1\n",
        "            iters_taken - total iterations taken to converge. Should not be more than max_iter.\n",
        "            \n",
        "            \"\"\"\n",
        "            # Fix random seed. Do not change this!\n",
        "            np.random.RandomState(111)\n",
        "\n",
        "            ## TODO your code here ##\n",
        "            # Initialise centroids to random points in the dataset if not provided (i.e. None)\n",
        "            if init_centroids is None :\n",
        "              init_centroids = np.random.permutation(X)[0:self.n_clusters,:]\n",
        "\n",
        "            iters_taken =0\n",
        "            self.centroids = init_centroids\n",
        "            for i in range (self.max_iter):\n",
        "              iters_taken  +=1\n",
        "              dist= self.compute_distance( X, self.centroids )\n",
        "              self.clusters = self.find_closest_cluster(dist)\n",
        "              update_centroids = self.compute_centroids(X, self.clusters)\n",
        "              \n",
        "              #when the new centroids doesn't change, we jump out of the for loop\n",
        "              if np.array_equal(update_centroids, self.centroids):\n",
        "                break;\n",
        "              self.centroids = update_centroids\n",
        "\n",
        "            # Iterate until kmeans converges or max_iters is reached. In each iteration: \n",
        "            #  - Update each datapoint's cluster to that whose *centroid* is closest\n",
        "            #  - Calculate the new *centroid* of each cluster\n",
        "            #  - Repeat the previous two steps until no centroid value changes. \n",
        "\n",
        "            ...\n",
        "            ## TODO end ##      \n",
        "            return self.clusters, self.centroids, iters_taken"
      ],
      "metadata": {
        "id": "c9Ur81HQqhdP"
      },
      "execution_count": 21,
      "outputs": []
    },
    {
      "cell_type": "code",
      "source": [
        "# test case centroids should be aroudn (1.5,1.5) and (4.5,4.5)\n",
        "if NOTEBOOK:\n",
        "  points = []\n",
        "  result = []\n",
        "  random.seed(0)\n",
        "  for _ in range(500):\n",
        "    x = random.random()*3\n",
        "    y = random.random()*3\n",
        "    points.append((x,y))\n",
        "    result.append(0)\n",
        "  for _ in range(500):\n",
        "    x = random.random()*3 + 3\n",
        "    y = random.random()*3 + 3\n",
        "    points.append((x,y))\n",
        "    result.append(1)\n",
        "  clf = KMeans(2)\n",
        "  points = np.asarray(points)"
      ],
      "metadata": {
        "id": "vPteaH2OwURb"
      },
      "execution_count": 10,
      "outputs": []
    },
    {
      "cell_type": "code",
      "source": [
        "#test for sanity check\n",
        "def test_compute_centroids():\n",
        "  clf = KMeans(2)\n",
        "  centroid_p = clf.compute_centroids(np.array(points),np.array(result))\n",
        "  centroid_r = [[1.5185255, 1.45970038],\n",
        " [4.51568108,4.54138552]]\n",
        "  assert(np.linalg.norm(centroid_p - np.array(centroid_r)) <= 1e-2 )\n",
        "if NOTEBOOK:\n",
        "  test_compute_centroids()"
      ],
      "metadata": {
        "id": "vH8N3uQQxYUI"
      },
      "execution_count": 14,
      "outputs": []
    },
    {
      "cell_type": "code",
      "source": [
        "# PennGrader Grading Cell\n",
        "if NOTEBOOK:\n",
        "    grader.grade(test_case_id = 'test_compute_centroids', answer = KMeans)"
      ],
      "metadata": {
        "id": "HXO_GNu0czbZ",
        "colab": {
          "base_uri": "https://localhost:8080/"
        },
        "outputId": "1d95b97c-2854-492b-f67b-5ca81ec0b607"
      },
      "execution_count": 15,
      "outputs": [
        {
          "output_type": "stream",
          "name": "stdout",
          "text": [
            "Correct! You earned 3/3 points. You are a star!\n",
            "\n",
            "Your submission has been successfully recorded in the gradebook.\n"
          ]
        }
      ]
    },
    {
      "cell_type": "code",
      "source": [
        "def test_distance():\n",
        "    centroid_r = [[1.5185255, 1.45970038],\n",
        "      [4.51568108,4.54138552]]\n",
        "    clf = KMeans(2)\n",
        "    distance = clf.compute_distance(np.array(points),np.array(centroid_r))\n",
        "    distance_for_0 = [1.30098366, 3.01191447]\n",
        "    assert(np.linalg.norm(distance_for_0-distance[0]) <= 1e-2)\n",
        "if NOTEBOOK:\n",
        "  test_distance()"
      ],
      "metadata": {
        "id": "PwM6MFOBzJdt"
      },
      "execution_count": 16,
      "outputs": []
    },
    {
      "cell_type": "code",
      "source": [
        "# PennGrader Grading Cell\n",
        "if NOTEBOOK:\n",
        "    grader.grade(test_case_id = 'test_distance', answer = KMeans)"
      ],
      "metadata": {
        "id": "odRdjHuOnvIg",
        "colab": {
          "base_uri": "https://localhost:8080/"
        },
        "outputId": "57fcf60b-6486-447a-c042-48db5df204db"
      },
      "execution_count": 17,
      "outputs": [
        {
          "output_type": "stream",
          "name": "stdout",
          "text": [
            "Correct! You earned 2/2 points. You are a star!\n",
            "\n",
            "Your submission has been successfully recorded in the gradebook.\n"
          ]
        }
      ]
    },
    {
      "cell_type": "code",
      "source": [
        "def test_find_clusters():\n",
        "  centroid_r = [[1.5185255, 1.45970038],\n",
        "      [4.51568108,4.54138552]]\n",
        "  clf = KMeans(2)\n",
        "  distance = clf.compute_distance(np.array(points),np.array(centroid_r))\n",
        "  cluster = clf.find_closest_cluster(distance)\n",
        "  assert(cluster[0] == 0)\n",
        "if NOTEBOOK:\n",
        "  test_find_clusters()"
      ],
      "metadata": {
        "id": "nZmGxfWJ0IOF"
      },
      "execution_count": 18,
      "outputs": []
    },
    {
      "cell_type": "code",
      "source": [
        "# PennGrader Grading Cell\n",
        "if NOTEBOOK:\n",
        "    grader.grade(test_case_id = 'test_find_clusters', answer = KMeans)"
      ],
      "metadata": {
        "id": "w_Vn7Ru5m_6c",
        "colab": {
          "base_uri": "https://localhost:8080/"
        },
        "outputId": "a5ff8537-03fc-48c5-d910-51c85a313a56"
      },
      "execution_count": 19,
      "outputs": [
        {
          "output_type": "stream",
          "name": "stdout",
          "text": [
            "Correct! You earned 2/2 points. You are a star!\n",
            "\n",
            "Your submission has been successfully recorded in the gradebook.\n"
          ]
        }
      ]
    },
    {
      "cell_type": "code",
      "source": [
        "def test_fit():\n",
        "  clf = KMeans(2)\n",
        "  clusters, centroids, _ = clf.fit(np.array(points),np.array([[1,1],[4,4]]))\n",
        "  centroid_r = [[1.5185255, 1.45970038],\n",
        "      [4.51568108,4.54138552]]\n",
        "  assert(np.linalg.norm(centroids - np.array(centroid_r)) <= 1e-2 )\n",
        "  assert(sum(np.array(clusters)-np.array(result)) == 0)\n",
        "if NOTEBOOK:\n",
        "  test_fit()"
      ],
      "metadata": {
        "id": "TWYeNmCw2_gM"
      },
      "execution_count": 22,
      "outputs": []
    },
    {
      "cell_type": "code",
      "source": [
        "# PennGrader Grading Cell\n",
        "if NOTEBOOK:\n",
        "    grader.grade(test_case_id = 'test_fit', answer = KMeans)"
      ],
      "metadata": {
        "id": "mkVJUVLHxhA-",
        "colab": {
          "base_uri": "https://localhost:8080/"
        },
        "outputId": "cb5def3f-e367-4649-d083-b395ef26a266"
      },
      "execution_count": 23,
      "outputs": [
        {
          "output_type": "stream",
          "name": "stdout",
          "text": [
            "Correct! You earned 5/5 points. You are a star!\n",
            "\n",
            "Your submission has been successfully recorded in the gradebook.\n"
          ]
        }
      ]
    },
    {
      "cell_type": "markdown",
      "source": [
        "## **1.3. [5 pts, manually graded] Visualise your results** \n",
        "We first run PCA on the dataset for visualisation in 2D space. Note that k-means is actually being fit on the entire feature set. \n",
        "\n",
        "Next, call your k-means class on the dataset X and obtain the clusters. Make sure to populate the \"clusters\" variable here. We have provided the plotting code for you.\n",
        "\n",
        "**Add these plots in the written report.**"
      ],
      "metadata": {
        "id": "4VKouLbMrbPr"
      }
    },
    {
      "cell_type": "code",
      "source": [
        "if NOTEBOOK:\n",
        "    # PCA for visualisation in 2D. \n",
        "    pca = PCA(n_components = 2)\n",
        "    v = pca.fit(np.transpose(X)).components_\n",
        "\n",
        "    for k in [3,5,7,9, 11]:\n",
        "\n",
        "        clusters = np.zeros(X.shape[0])\n",
        "\n",
        "        ## TODO your code here ##\n",
        "        mean = KMeans(k)\n",
        "        clusters,_,_ = mean.fit(X)\n",
        "        ## TODO end ##\n",
        "\n",
        "        plt.scatter(v[0], v[1], c=clusters, s=18)\n",
        "        plt.title(\"Breast Cancer Clusters (k = \"+str(k) + \")\")\n",
        "        plt.show()"
      ],
      "metadata": {
        "id": "3CAxc1ACqj-w",
        "colab": {
          "base_uri": "https://localhost:8080/",
          "height": 1000
        },
        "outputId": "d19fd29e-ccb7-43be-9e1a-03367e6fda4c"
      },
      "execution_count": 24,
      "outputs": [
        {
          "output_type": "display_data",
          "data": {
            "text/plain": [
              "<Figure size 432x288 with 1 Axes>"
            ],
            "image/png": "[encoded data removed]"
          },
          "metadata": {
            "needs_background": "light"
          }
        },
        {
          "output_type": "display_data",
          "data": {
            "text/plain": [
              "<Figure size 432x288 with 1 Axes>"
            ],
            "image/png": "[encoded data removed]"
          },
          "metadata": {
            "needs_background": "light"
          }
        },
        {
          "output_type": "display_data",
          "data": {
            "text/plain": [
              "<Figure size 432x288 with 1 Axes>"
            ],
            "image/png": "[encoded data removed]"
          },
          "metadata": {
            "needs_background": "light"
          }
        },
        {
          "output_type": "display_data",
          "data": {
            "text/plain": [
              "<Figure size 432x288 with 1 Axes>"
            ],
            "image/png": "[encoded data removed]"
          },
          "metadata": {
            "needs_background": "light"
          }
        },
        {
          "output_type": "display_data",
          "data": {
            "text/plain": [
              "<Figure size 432x288 with 1 Axes>"
            ],
            "image/png": "[encoded data removed]"
          },
          "metadata": {
            "needs_background": "light"
          }
        }
      ]
    },
    {
      "cell_type": "markdown",
      "source": [
        "## **1.4. [3 pts] Compute distortion**\n",
        "\n",
        "As you may have noticed already, one big question still remains. How do we know what value of k to choose?\n",
        "\n",
        "One way to decide on a value for k is to run k-means and plot the distortion (sum of squared error based on the Euclidean distance). From that we can find the \"elbow of the graph\" that indicates the best tradeoff between number of clusters and corresponding distortion.\n",
        "\n",
        "In the function `test_cluster_size`,  iterate over possible cluster sizes from 2 to a `max_cluster` (inclusive) value. For each *k*, run k-means and calculate its distortion."
      ],
      "metadata": {
        "id": "W-mxLSYcrkNI"
      }
    },
    {
      "cell_type": "code",
      "source": [
        "if NOTEBOOK:\n",
        "    def test_cluster_size(X, max_k):\n",
        "        \"\"\"\n",
        "        Iterates over possible cluster from 2 to max_k, running k-means and calulating distortion.\n",
        "        \n",
        "        INPUT:\n",
        "        X - m by n matrix, where m is the number of training points\n",
        "        max_k - the maximum number of clusters to consider\n",
        "        \n",
        "        OUTPUT:\n",
        "        scores - a list of scores, that contains the distortion for k = 2 to max_k, in order.\n",
        "        \"\"\"\n",
        "        scores = []\n",
        "        ## TODO your code here ##\n",
        "        lenX = np.shape(X)[0]\n",
        "        for i in range (2, max_k+1):\n",
        "          mean = KMeans(i)\n",
        "          clusters, centroids, _ = mean.fit(X)\n",
        "          sq = 0\n",
        "          for j in range (lenX):\n",
        "            sq_centroid = centroids[int(clusters[j])]\n",
        "            sq += sum(np.square(X[j] - sq_centroid) )\n",
        "          scores.append(sq)\n",
        "        ## TODO end ##\n",
        "        return scores"
      ],
      "metadata": {
        "id": "LaX8dLDPqmMr"
      },
      "execution_count": 32,
      "outputs": []
    },
    {
      "cell_type": "code",
      "source": [
        "def test_test_cluster_size():\n",
        "  scores = test_cluster_size(np.array(points),5)\n",
        "  assert(np.argmax(scores) == 0)\n",
        "if NOTEBOOK:\n",
        "  test_test_cluster_size()"
      ],
      "metadata": {
        "id": "u88RPtHd4W7q"
      },
      "execution_count": 33,
      "outputs": []
    },
    {
      "cell_type": "code",
      "source": [
        "# PennGrader Grading Cell\n",
        "if NOTEBOOK:\n",
        "    max_k = 20\n",
        "    scores = test_cluster_size(X, max_k)\n",
        "    grader.grade(test_case_id = 'test_test_cluster_size', answer = scores)"
      ],
      "metadata": {
        "id": "7-zCSzHVW38-",
        "colab": {
          "base_uri": "https://localhost:8080/"
        },
        "outputId": "783d7da6-9903-42a7-ff5a-3a000cadb6aa"
      },
      "execution_count": 34,
      "outputs": [
        {
          "output_type": "stream",
          "name": "stdout",
          "text": [
            "Correct! You earned 3/3 points. You are a star!\n",
            "\n",
            "Your submission has been successfully recorded in the gradebook.\n"
          ]
        }
      ]
    },
    {
      "cell_type": "markdown",
      "source": [
        "## **1.5. [3 pts, manually graded] Plot distortion vs. k (without feature scaling)** \n",
        "\n",
        "Plot distortion vs. different k values by using the function we just wrote on dataset X and add it in the written report. Use max_k = 20. Determine the best k value from this plot and also mention it in the written report. Make sure your plot has axes labels, legend and title."
      ],
      "metadata": {
        "id": "unTzXFCArntU"
      }
    },
    {
      "cell_type": "code",
      "source": [
        "if NOTEBOOK:\n",
        "    ## TODO your code here ##\n",
        "    ls = [i for i in range(2,21)]\n",
        "    plt.plot(ls, scores, label = 'Scores: without feature scaling' )\n",
        "\n",
        "    plt.xlabel('k Values (No scaling)')\n",
        "    plt.ylabel('Distortion')\n",
        "    plt.legend()\n",
        "    plt.title(' Distortion at different k values (No scaling)')\n",
        "    ## TODO end ##"
      ],
      "metadata": {
        "id": "W4vofqRIqqKK",
        "colab": {
          "base_uri": "https://localhost:8080/",
          "height": 295
        },
        "outputId": "c2bc5954-3306-432d-ed65-2f6b22391b59"
      },
      "execution_count": 36,
      "outputs": [
        {
          "output_type": "display_data",
          "data": {
            "text/plain": [
              "<Figure size 432x288 with 1 Axes>"
            ],
            "image/png": "[encoded data removed]"
          },
          "metadata": {
            "needs_background": "light"
          }
        }
      ]
    },
    {
      "cell_type": "markdown",
      "source": [
        "## **1.6. [3 pts, manually graded] Plot distortion vs. k (with feature scaling)** \n",
        "\n",
        "What we just did was running k-means clustering over the dataset X without any feature scaling. This time, we will rescale each feature to the standard range of (0,1) before passing it to k-means and computing the distortion.\n",
        "\n",
        "Use `sklearn.preprocessing.MinMaxScaler` ([docs](https://scikit-learn.org/stable/modules/generated/sklearn.preprocessing.MinMaxScaler.html)) and scale the dataset X before passing it to the `test_cluster_size` function. As before, plot distortion vs. different k values and add it in the written report. Use max_k = 20. Determine the best k value from this plot and also mention it in the written report. Make sure your plot has axes labels, legend and title."
      ],
      "metadata": {
        "id": "LwbnU0Nyk75e"
      }
    },
    {
      "cell_type": "code",
      "source": [
        "if NOTEBOOK:\n",
        "    ## TODO your code here ##\n",
        "    # Use min-max scaler to scale the dataset\n",
        "    from sklearn.preprocessing import MinMaxScaler\n",
        "    scaler = MinMaxScaler()\n",
        "    X_scaled = scaler.fit_transform(X)\n",
        "    scores = test_cluster_size (X_scaled, 20)\n",
        "    \n",
        "    plt.plot(ls, scores, label = 'Scores: No feature scaling' )\n",
        "\n",
        "    plt.xlabel('k Values (No scaling)')\n",
        "    plt.ylabel('Distortion')\n",
        "    plt.title(' Distortion at different k values (No scaling)')\n",
        "    plt.legend()\n",
        "    ## TODO end ##"
      ],
      "metadata": {
        "id": "l2iPR5psqsRd",
        "colab": {
          "base_uri": "https://localhost:8080/",
          "height": 295
        },
        "outputId": "2077f169-f7b8-4441-992c-6a88e58ac86f"
      },
      "execution_count": 37,
      "outputs": [
        {
          "output_type": "display_data",
          "data": {
            "text/plain": [
              "<Figure size 432x288 with 1 Axes>"
            ],
            "image/png": "[encoded data removed]"
          },
          "metadata": {
            "needs_background": "light"
          }
        }
      ]
    },
    {
      "cell_type": "markdown",
      "source": [
        "## **1.7. [4 pts, manually graded] Comments**\n",
        "\n",
        "Answer these questions in the written report.\n",
        "\n",
        "1. Why do you get different results with and without feature scaling?\n",
        "2. Should you scale the features before fitting k-means? Why or why not?"
      ],
      "metadata": {
        "id": "aTYHgxzXRz_W"
      }
    },
    {
      "cell_type": "markdown",
      "source": [
        "# **2. [20 pts] Image Classification using CNN**"
      ],
      "metadata": {
        "id": "NoidSevnpiqu"
      }
    },
    {
      "cell_type": "markdown",
      "source": [
        "#### **Import libraries**"
      ],
      "metadata": {
        "id": "iaLhD7tcacNK"
      }
    },
    {
      "cell_type": "code",
      "metadata": {
        "id": "mgTR67PEQhn6"
      },
      "source": [
        "if NOTEBOOK:\n",
        "    import os\n",
        "    import numpy as np\n",
        "    import pandas as pd\n",
        "    import torch\n",
        "    import torch.nn as nn\n",
        "    import torch.nn.functional as F\n",
        "    import torch.optim as optim\n",
        "    from torchvision import transforms\n",
        "    from torchvision.transforms import ToTensor\n",
        "    from torch.utils.data import Dataset, DataLoader\n",
        "    from PIL import Image\n",
        "    import matplotlib.pyplot as plt"
      ],
      "execution_count": 38,
      "outputs": []
    },
    {
      "cell_type": "markdown",
      "source": [
        "#### **Set the random seed**"
      ],
      "metadata": {
        "id": "ydDc504-akhk"
      }
    },
    {
      "cell_type": "code",
      "metadata": {
        "id": "IgoqGPBPdGBf"
      },
      "source": [
        "if NOTEBOOK:\n",
        "    np.random.seed(0)\n",
        "    torch.manual_seed(0)"
      ],
      "execution_count": 39,
      "outputs": []
    },
    {
      "cell_type": "markdown",
      "source": [
        "#### **Set GPU**"
      ],
      "metadata": {
        "id": "E2bidiHXawdT"
      }
    },
    {
      "cell_type": "code",
      "source": [
        "# Make sure you're using cuda (GPU) by checking the hardware accelerator under Runtime -> Change runtime type\n",
        "if NOTEBOOK:\n",
        "    device = torch.device(\"cuda\" if torch.cuda.is_available() else \"cpu\")\n",
        "    print(\"We're using:\", device)"
      ],
      "metadata": {
        "id": "5lI0V_BYa3LP"
      },
      "execution_count": null,
      "outputs": []
    },
    {
      "cell_type": "markdown",
      "metadata": {
        "id": "1dH1H9cSS4nc"
      },
      "source": [
        "#### **Download and extract the data**"
      ]
    },
    {
      "cell_type": "code",
      "source": [
        "%%capture\n",
        "if NOTEBOOK:\n",
        "    !pip install -U gdown"
      ],
      "metadata": {
        "id": "MGXwhaFyjr-J"
      },
      "execution_count": null,
      "outputs": []
    },
    {
      "cell_type": "code",
      "source": [
        "if NOTEBOOK:\n",
        "    !gdown 1vacRphjb47LXifcd3F2xlsOTKR0R_LiF"
      ],
      "metadata": {
        "id": "7Ry7qltBzb_1"
      },
      "execution_count": null,
      "outputs": []
    },
    {
      "cell_type": "code",
      "source": [
        "%%capture\n",
        "if NOTEBOOK:\n",
        "    !yes N | unzip \"/content/supertuxkart_data.zip\" -d \"/content\""
      ],
      "metadata": {
        "id": "EAhGG46XzibJ"
      },
      "execution_count": null,
      "outputs": []
    },
    {
      "cell_type": "markdown",
      "metadata": {
        "id": "vWRZZ6Gd3O5f"
      },
      "source": [
        "## **2.1. Dataset class implementation**\n",
        "\n",
        "In this section, you will be training, validating and testing a CNN model to classify images of objects from a car racing video game called SuperTuxKart. There are 6 classes of objects: kart is 1, pickup is 2, nitro is 3, bomb is 4 and projectile 5. The background class (all other images) is assigned the label 0. First, you need to load data in a way that PyTorch can deal with easily. We will lean on PyTorch’s `Dataset` class to do this. \n",
        "\n",
        "Complete the `STKDataset` class that inherits from `Dataset`.\n",
        "\n",
        "1. `__init__` is a constructor, and would be the natural place to perform operations common to the full dataset, such as parsing the labels and image paths.\n",
        "2. The `__len__` function should return the size of the dataset, i.e., the number of samples.\n",
        "3. The `__getitem__` function should return a python tuple of (image, label). The image should be a torch.Tensor of size (3, 64, 64) and the label should be an int.\n",
        "\n",
        "The labels of the images under a particular folder (`train/` or `val/`) are stored in the same folder as `labels.csv`. Read the `labels.csv` file using `pandas` to understand what it looks like before proceeding. There is also a `labels.csv` in the `test/` folder. That would only contain the file names of the test samples."
      ]
    },
    {
      "cell_type": "code",
      "source": [
        "if NOTEBOOK:\n",
        "    ENCODING_TO_LABELS = {0: \"background\",\n",
        "                        1: \"kart\",\n",
        "                        2: \"pickup\",\n",
        "                        3: \"nitro\",\n",
        "                        4: \"bomb\",\n",
        "                        5: \"projectile\"}\n",
        "\n",
        "    LABELS_TO_ENCODING = {\"background\": 0,\n",
        "                        \"kart\": 1,\n",
        "                        \"pickup\": 2,\n",
        "                        \"nitro\": 3,\n",
        "                        \"bomb\": 4,\n",
        "                        \"projectile\": 5}"
      ],
      "metadata": {
        "id": "clNM_8vS4r_0"
      },
      "execution_count": null,
      "outputs": []
    },
    {
      "cell_type": "code",
      "source": [
        "if NOTEBOOK:\n",
        "    \n",
        "    class STKDataset(Dataset):\n",
        "\n",
        "        def __init__(self, image_path, transform=None):\n",
        "            self.image_path = image_path\n",
        "            self.labels = pd.read_csv(image_path + \"/labels.csv\")\n",
        "            self.transform = transform\n",
        "\n",
        "        def __len__(self):\n",
        "            \n",
        "            # STUDENT TODO START: Return the number of samples in the dataset\n",
        "            ...\n",
        "            # STUDENT TODO END\n",
        "\n",
        "        def __getitem__(self, idx):\n",
        "            \n",
        "            if torch.is_tensor(idx):\n",
        "                idx = idx.tolist()\n",
        "\n",
        "            # STUDENT TODO START: Create the path to each image by joining the root path with the name of the file as found in labels.csv\n",
        "            img_name = ...\n",
        "            # STUDENT TODO END\n",
        "\n",
        "            # Read the image from the file path\n",
        "            image = Image.open(img_name)\n",
        "            # Transform the image using self.transform\n",
        "            if self.transform:\n",
        "                image = self.transform(image)\n",
        "\n",
        "            if \"label\" in self.labels.columns:\n",
        "                # STUDENT TODO START: Extract label name and encode it using the LABELS_TO_ENCODING dictionary\n",
        "                label = ...\n",
        "                # STUDENT TODO END\n",
        "                sample = (image, label)\n",
        "            else:\n",
        "                sample = (image)\n",
        "            return sample"
      ],
      "metadata": {
        "id": "hMx57cqWySrk"
      },
      "execution_count": null,
      "outputs": []
    },
    {
      "cell_type": "code",
      "source": [
        "if NOTEBOOK:\n",
        "    # STUDENT TODO START: Use transforms.Compose to transform the image such that every pixel takes on a value between -1 and 1\n",
        "    # Hint: Refer to transforms.ToTensor() and transforms.Normalize() \n",
        "    transform = ...\n",
        "    # STUDENT TODO END\n",
        "\n",
        "    train_dataset = STKDataset(image_path=\"train\", transform=transform)\n",
        "    val_dataset = STKDataset(image_path=\"val\", transform=transform)\n",
        "    test_dataset = STKDataset(image_path=\"test\", transform=transform)"
      ],
      "metadata": {
        "id": "cVLSRk2r4wff"
      },
      "execution_count": null,
      "outputs": []
    },
    {
      "cell_type": "markdown",
      "source": [
        "#### **Visualization**\n",
        "\n",
        "The following cell visualizes the data as a sanity check for your implementation of the `STKDataset` class."
      ],
      "metadata": {
        "id": "9xU1vMHZTZqA"
      }
    },
    {
      "cell_type": "code",
      "source": [
        "if NOTEBOOK:\n",
        "    figure = plt.figure(figsize=(8, 8))\n",
        "    cols, rows = 3, 3\n",
        "    torch.manual_seed(0)\n",
        "    for i in range(1, cols * rows + 1):\n",
        "        sample_idx = torch.randint(len(train_dataset), size=(1,)).item()\n",
        "        img, label = train_dataset[sample_idx]\n",
        "        figure.add_subplot(rows, cols, i)\n",
        "        plt.title(ENCODING_TO_LABELS[label])\n",
        "        plt.axis(\"off\")\n",
        "        plt.imshow(img.permute(1, 2, 0)*0.5 + 0.5)\n",
        "    plt.show()"
      ],
      "metadata": {
        "id": "qneu5Tqu5HwP"
      },
      "execution_count": null,
      "outputs": []
    },
    {
      "cell_type": "markdown",
      "source": [
        "#### **Data loaders**"
      ],
      "metadata": {
        "id": "iO62UxlvT_-B"
      }
    },
    {
      "cell_type": "code",
      "source": [
        "if NOTEBOOK:\n",
        "    # STUDENT TODO START: Create data loaders for training, validation, and test sets each having a batch size of 64. \n",
        "    # Set shuffle to be True for training and validation data loaders, False for test data loader.\n",
        "    train_dataloader = ...\n",
        "    val_dataloader = ...\n",
        "    test_dataloader = ...\n",
        "    # STUDENT TODO END"
      ],
      "metadata": {
        "id": "vEeDpfBn-FjK"
      },
      "execution_count": null,
      "outputs": []
    },
    {
      "cell_type": "markdown",
      "source": [
        "## **2.2. CNN architecture**\n",
        "\n",
        "Your goal is to devise a CNN that passes the threshold accuracy (80%) on the test set. You get full score (20 pts) if you get at least 80% test set accuracy and 0 if you get 30% or below. The score varies linearly between 0 and 20 for accuracies between 30% and 80%. \n",
        "\n",
        "There are several decisions that you take in building your CNN including but not limited to:\n",
        "\n",
        "- the number of convolutional layers\n",
        "- the kernel size, stride, padding and number of out channels for each convolutional layer\n",
        "- number of fully connected layers\n",
        "- number of nodes in each fully connected layer\n",
        "\n",
        "You are free to decide the architecture. To make your search easier, we recommend you to use not more than four convolutional layers and four fully connected layers. We also suggest that you use the relu activation function between the layers."
      ],
      "metadata": {
        "id": "mc_f7OeMcaeh"
      }
    },
    {
      "cell_type": "code",
      "source": [
        "if NOTEBOOK:\n",
        "    class Net(nn.Module):\n",
        "        def __init__(self):\n",
        "            super().__init__()\n",
        "            # STUDENT TODO START: Create the layers of your CNN here\n",
        "            ...\n",
        "            # STUDENT TODO END\n",
        "\n",
        "        def forward(self, x):\n",
        "            # STUDENT TODO START: Perform the forward pass through the layers\n",
        "            ...\n",
        "            # STUDENT TODO END\n",
        "\n",
        "    # STUDENT TODO START: Create an instance of Net and move it to the GPU\n",
        "    model = ...\n",
        "    # STUDENT TODO END"
      ],
      "metadata": {
        "id": "_CJJEh5rBRmQ"
      },
      "execution_count": null,
      "outputs": []
    },
    {
      "cell_type": "markdown",
      "source": [
        "## **2.2. Training, validation, and testing**"
      ],
      "metadata": {
        "id": "uo7XH85FfrXl"
      }
    },
    {
      "cell_type": "code",
      "source": [
        "if NOTEBOOK:\n",
        "    # STUDENT TODO START: \n",
        "    # 1. Set the criterion to be cross entropy loss\n",
        "    criterion = ...\n",
        "\n",
        "    # 2. Experiment with different optimizers\n",
        "    optimizer = ...\n",
        "    # STUDENT TODO END"
      ],
      "metadata": {
        "id": "-hfsnLHCCxt5"
      },
      "execution_count": null,
      "outputs": []
    },
    {
      "cell_type": "code",
      "source": [
        "if NOTEBOOK:\n",
        "\n",
        "    train_loss, validation_loss = [], []\n",
        "    train_acc, validation_acc = [], []\n",
        "\n",
        "    # STUDENT TODO START:\n",
        "    # Note that we have set the number of epochs to be 10. You can choose to increase or decrease the number of epochs.\n",
        "    num_epochs = 10 \n",
        "    for epoch in range(num_epochs):\n",
        "        \n",
        "        model.train()\n",
        "        running_loss = 0.\n",
        "        correct, total = 0, 0 \n",
        "        \n",
        "        for i, data in enumerate(train_dataloader, 0):\n",
        "\n",
        "            inputs, labels = data\n",
        "            # 1. Store the inputs and labels in the GPU\n",
        "            inputs = ...\n",
        "            labels = ...\n",
        "            \n",
        "            # 2. Get the model predictions\n",
        "            predictions = ...\n",
        "\n",
        "            # 3. Zero the gradients out\n",
        "            ...\n",
        "\n",
        "            # 4. Get the loss\n",
        "            loss = ...\n",
        "\n",
        "            # 5. Calculate the gradients\n",
        "            ...\n",
        "\n",
        "            # 6. Update the weights\n",
        "            ...\n",
        "                \n",
        "            running_loss += loss.item()\n",
        "            \n",
        "            _, predicted = torch.max(predictions, 1)\n",
        "            total += labels.size(0)\n",
        "            correct += (predicted == labels).sum().item()\n",
        "            \n",
        "        train_loss.append(running_loss / len(train_dataloader))\n",
        "        train_acc.append(correct/total)\n",
        "                \n",
        "        model.eval()\n",
        "        running_loss = 0.\n",
        "        correct, total = 0, 0 \n",
        "        \n",
        "        for i, data in enumerate(val_dataloader, 0):\n",
        "\n",
        "            inputs, labels = data\n",
        "            # 1. Store the inputs and labels in the GPU\n",
        "            inputs = ...\n",
        "            labels = ...\n",
        "            \n",
        "            # 2. Get the model predictions\n",
        "            predictions = ...\n",
        "\n",
        "            # 3. Get the loss\n",
        "            loss = ...\n",
        "\n",
        "            running_loss += loss.item()\n",
        "            \n",
        "            _, predicted = torch.max(predictions, 1)\n",
        "            total += labels.size(0)\n",
        "            correct += (predicted == labels).sum().item()\n",
        "            \n",
        "        validation_loss.append(running_loss / len(val_dataloader))\n",
        "        validation_acc.append(correct/total)\n",
        "\n",
        "        print(f\"Epoch {epoch+1}:\")\n",
        "\n",
        "        print(f\"Training Loss:\", round(train_loss[epoch], 3))\n",
        "        print(f\"Validation Loss:\", round(validation_loss[epoch], 3))\n",
        "        \n",
        "        print(f\"Training Accuracy:\", round(train_acc[epoch], 3))\n",
        "        print(f\"Validation Accuracy:\", round(validation_acc[epoch], 3))\n",
        "\n",
        "        print(\"------------------------------\")"
      ],
      "metadata": {
        "id": "-dECXr5bCz-6"
      },
      "execution_count": null,
      "outputs": []
    },
    {
      "cell_type": "code",
      "source": [
        "if NOTEBOOK:\n",
        "\n",
        "    model.eval()\n",
        "\n",
        "    test_predictions = np.array([])\n",
        "\n",
        "    for i, data in enumerate(test_dataloader, 0):\n",
        "\n",
        "        inputs = data\n",
        "        # STUDENT TODO START:\n",
        "        # 1. Store the inputs in the GPU\n",
        "        inputs = ...\n",
        "        \n",
        "        # 2. Get the model predictions\n",
        "        predictions = ...\n",
        "        # STUDENT TODO END\n",
        "    \n",
        "        _, predicted = torch.max(predictions, 1)\n",
        "\n",
        "        test_predictions = np.concatenate((test_predictions, predicted.detach().cpu().numpy()))"
      ],
      "metadata": {
        "id": "Be97yhnt4sAf"
      },
      "execution_count": null,
      "outputs": []
    },
    {
      "cell_type": "code",
      "source": [
        "# PennGrader Grading Cell\n",
        "if NOTEBOOK:\n",
        "    grader.grade(test_case_id = 'test_cnn_predictions', answer = test_predictions)"
      ],
      "metadata": {
        "id": "SSzSgCbYH8Zi"
      },
      "execution_count": null,
      "outputs": []
    },
    {
      "cell_type": "markdown",
      "source": [
        "Download the .ipynb notebook and submit on Gradescope."
      ],
      "metadata": {
        "id": "-h9O4ky189kj"
      }
    }
  ]
}